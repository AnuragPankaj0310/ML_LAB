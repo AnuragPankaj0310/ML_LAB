{
 "cells": [
  {
   "cell_type": "code",
   "execution_count": 1,
   "id": "f94de450",
   "metadata": {},
   "outputs": [],
   "source": [
    "import pandas as pd\n",
    "import numpy as np\n",
    "from sklearn.model_selection import train_test_split\n",
    "from sklearn.linear_model import LinearRegression\n",
    "from sklearn.metrics import accuracy_score,classification_report\n",
    "from sklearn.preprocessing import LabelEncoder, OneHotEncoder"
   ]
  },
  {
   "cell_type": "code",
   "execution_count": 2,
   "id": "7ae3ce2e",
   "metadata": {},
   "outputs": [
    {
     "data": {
      "text/html": [
       "<div>\n",
       "<style scoped>\n",
       "    .dataframe tbody tr th:only-of-type {\n",
       "        vertical-align: middle;\n",
       "    }\n",
       "\n",
       "    .dataframe tbody tr th {\n",
       "        vertical-align: top;\n",
       "    }\n",
       "\n",
       "    .dataframe thead th {\n",
       "        text-align: right;\n",
       "    }\n",
       "</style>\n",
       "<table border=\"1\" class=\"dataframe\">\n",
       "  <thead>\n",
       "    <tr style=\"text-align: right;\">\n",
       "      <th></th>\n",
       "      <th>Id</th>\n",
       "      <th>SepalLengthCm</th>\n",
       "      <th>SepalWidthCm</th>\n",
       "      <th>PetalLengthCm</th>\n",
       "      <th>PetalWidthCm</th>\n",
       "      <th>Species</th>\n",
       "    </tr>\n",
       "  </thead>\n",
       "  <tbody>\n",
       "    <tr>\n",
       "      <th>100</th>\n",
       "      <td>101</td>\n",
       "      <td>6.3</td>\n",
       "      <td>3.3</td>\n",
       "      <td>6.0</td>\n",
       "      <td>2.5</td>\n",
       "      <td>Iris-virginica</td>\n",
       "    </tr>\n",
       "    <tr>\n",
       "      <th>47</th>\n",
       "      <td>48</td>\n",
       "      <td>4.6</td>\n",
       "      <td>3.2</td>\n",
       "      <td>1.4</td>\n",
       "      <td>0.2</td>\n",
       "      <td>Iris-setosa</td>\n",
       "    </tr>\n",
       "    <tr>\n",
       "      <th>70</th>\n",
       "      <td>71</td>\n",
       "      <td>5.9</td>\n",
       "      <td>3.2</td>\n",
       "      <td>4.8</td>\n",
       "      <td>1.8</td>\n",
       "      <td>Iris-versicolor</td>\n",
       "    </tr>\n",
       "    <tr>\n",
       "      <th>66</th>\n",
       "      <td>67</td>\n",
       "      <td>5.6</td>\n",
       "      <td>3.0</td>\n",
       "      <td>4.5</td>\n",
       "      <td>1.5</td>\n",
       "      <td>Iris-versicolor</td>\n",
       "    </tr>\n",
       "    <tr>\n",
       "      <th>80</th>\n",
       "      <td>81</td>\n",
       "      <td>5.5</td>\n",
       "      <td>2.4</td>\n",
       "      <td>3.8</td>\n",
       "      <td>1.1</td>\n",
       "      <td>Iris-versicolor</td>\n",
       "    </tr>\n",
       "    <tr>\n",
       "      <th>23</th>\n",
       "      <td>24</td>\n",
       "      <td>5.1</td>\n",
       "      <td>3.3</td>\n",
       "      <td>1.7</td>\n",
       "      <td>0.5</td>\n",
       "      <td>Iris-setosa</td>\n",
       "    </tr>\n",
       "    <tr>\n",
       "      <th>48</th>\n",
       "      <td>49</td>\n",
       "      <td>5.3</td>\n",
       "      <td>3.7</td>\n",
       "      <td>1.5</td>\n",
       "      <td>0.2</td>\n",
       "      <td>Iris-setosa</td>\n",
       "    </tr>\n",
       "    <tr>\n",
       "      <th>10</th>\n",
       "      <td>11</td>\n",
       "      <td>5.4</td>\n",
       "      <td>3.7</td>\n",
       "      <td>1.5</td>\n",
       "      <td>0.2</td>\n",
       "      <td>Iris-setosa</td>\n",
       "    </tr>\n",
       "    <tr>\n",
       "      <th>82</th>\n",
       "      <td>83</td>\n",
       "      <td>5.8</td>\n",
       "      <td>2.7</td>\n",
       "      <td>3.9</td>\n",
       "      <td>1.2</td>\n",
       "      <td>Iris-versicolor</td>\n",
       "    </tr>\n",
       "    <tr>\n",
       "      <th>131</th>\n",
       "      <td>132</td>\n",
       "      <td>7.9</td>\n",
       "      <td>3.8</td>\n",
       "      <td>6.4</td>\n",
       "      <td>2.0</td>\n",
       "      <td>Iris-virginica</td>\n",
       "    </tr>\n",
       "  </tbody>\n",
       "</table>\n",
       "</div>"
      ],
      "text/plain": [
       "      Id  SepalLengthCm  SepalWidthCm  PetalLengthCm  PetalWidthCm  \\\n",
       "100  101            6.3           3.3            6.0           2.5   \n",
       "47    48            4.6           3.2            1.4           0.2   \n",
       "70    71            5.9           3.2            4.8           1.8   \n",
       "66    67            5.6           3.0            4.5           1.5   \n",
       "80    81            5.5           2.4            3.8           1.1   \n",
       "23    24            5.1           3.3            1.7           0.5   \n",
       "48    49            5.3           3.7            1.5           0.2   \n",
       "10    11            5.4           3.7            1.5           0.2   \n",
       "82    83            5.8           2.7            3.9           1.2   \n",
       "131  132            7.9           3.8            6.4           2.0   \n",
       "\n",
       "             Species  \n",
       "100   Iris-virginica  \n",
       "47       Iris-setosa  \n",
       "70   Iris-versicolor  \n",
       "66   Iris-versicolor  \n",
       "80   Iris-versicolor  \n",
       "23       Iris-setosa  \n",
       "48       Iris-setosa  \n",
       "10       Iris-setosa  \n",
       "82   Iris-versicolor  \n",
       "131   Iris-virginica  "
      ]
     },
     "execution_count": 2,
     "metadata": {},
     "output_type": "execute_result"
    }
   ],
   "source": [
    "df=pd.read_csv(\"iris.csv\")\n",
    "df.sample(10)"
   ]
  },
  {
   "cell_type": "code",
   "execution_count": 3,
   "id": "7a2e18c3",
   "metadata": {},
   "outputs": [],
   "source": [
    "if \"Id\" in df.columns:\n",
    "    df=df.drop(\"Id\",axis=1)\n",
    "\n",
    "x=df.drop(\"Species\",axis=1)\n",
    "y=df[\"Species\"]\n",
    "\n",
    "# encode target (str -> num)\n",
    "le=LabelEncoder()\n",
    "y_encoded=le.fit_transform(y)\n",
    "\n",
    "#OneHot for regression\n",
    "y_onehot=OneHotEncoder(sparse_output=False).fit_transform(y_encoded.reshape(-1,1))"
   ]
  },
  {
   "cell_type": "code",
   "execution_count": 4,
   "id": "01549cf5",
   "metadata": {},
   "outputs": [
    {
     "name": "stdout",
     "output_type": "stream",
     "text": [
      "(120, 4)\n",
      "(15, 4)\n",
      "(15, 4)\n"
     ]
    }
   ],
   "source": [
    "x_train,x_temp,y_tarin,y_temp=train_test_split(x,y_onehot,test_size=0.2,random_state=42,stratify=y_encoded)\n",
    "\n",
    "x_val,x_test,y_val,y_test=train_test_split(x_temp,y_temp,test_size=0.5, random_state=42, stratify=np.argmax(y_temp, axis=1))\n",
    "\n",
    "print(x_train.shape)\n",
    "print(x_val.shape)\n",
    "print(x_test.shape)"
   ]
  },
  {
   "cell_type": "code",
   "execution_count": 5,
   "id": "1a63b337",
   "metadata": {},
   "outputs": [
    {
     "name": "stdout",
     "output_type": "stream",
     "text": [
      "Validation Accuracy 0.8\n",
      "classification Report(Validation):\n",
      "                  precision    recall  f1-score   support\n",
      "\n",
      "    Iris-setosa       1.00      1.00      1.00         5\n",
      "Iris-versicolor       0.75      0.60      0.67         5\n",
      " Iris-virginica       0.67      0.80      0.73         5\n",
      "\n",
      "       accuracy                           0.80        15\n",
      "      macro avg       0.81      0.80      0.80        15\n",
      "   weighted avg       0.81      0.80      0.80        15\n",
      "\n"
     ]
    }
   ],
   "source": [
    "model_80=LinearRegression()\n",
    "model_80.fit(x_train,y_tarin)\n",
    "\n",
    "y_val_pred=model_80.predict(x_val)\n",
    "y_val_pred_class=np.argmax(y_val_pred,axis=1)\n",
    "y_val_true_class=np.argmax(y_val,axis=1)\n",
    "\n",
    "print(\"Validation Accuracy\",accuracy_score(y_val_true_class,y_val_pred_class))\n",
    "print(\"classification Report(Validation):\\n\",classification_report(y_val_true_class,y_val_pred_class,target_names=le.classes_))"
   ]
  },
  {
   "cell_type": "code",
   "execution_count": 6,
   "id": "f9711ad1",
   "metadata": {},
   "outputs": [
    {
     "name": "stdout",
     "output_type": "stream",
     "text": [
      "Test Accuracy: 0.7333333333333333\n",
      "\n",
      "Classification Report (Test):\n",
      "                  precision    recall  f1-score   support\n",
      "\n",
      "    Iris-setosa       1.00      1.00      1.00         5\n",
      "Iris-versicolor       0.67      0.40      0.50         5\n",
      " Iris-virginica       0.57      0.80      0.67         5\n",
      "\n",
      "       accuracy                           0.73        15\n",
      "      macro avg       0.75      0.73      0.72        15\n",
      "   weighted avg       0.75      0.73      0.72        15\n",
      "\n"
     ]
    }
   ],
   "source": [
    "y_test_pred = model_80.predict(x_test)\n",
    "y_test_pred_class = np.argmax(y_test_pred, axis=1)\n",
    "y_test_true_class = np.argmax(y_test, axis=1)\n",
    "\n",
    "print(\"Test Accuracy:\", accuracy_score(y_test_true_class, y_test_pred_class))\n",
    "print(\"\\nClassification Report (Test):\\n\",\n",
    "      classification_report(y_test_true_class, y_test_pred_class, target_names=le.classes_))\n"
   ]
  },
  {
   "cell_type": "code",
   "execution_count": 7,
   "id": "95b0b7bc",
   "metadata": {},
   "outputs": [
    {
     "name": "stdout",
     "output_type": "stream",
     "text": [
      "(105, 4)\n",
      "(22, 4)\n",
      "(23, 4)\n"
     ]
    }
   ],
   "source": [
    "x_train, x_temp, y_train, y_temp = train_test_split(\n",
    "    x, y_onehot, test_size=0.3, random_state=42, stratify=y_encoded\n",
    ")\n",
    "\n",
    "# Split temp into validation and test (50/50 → 15% each)\n",
    "x_val, x_test, y_val, y_test = train_test_split(\n",
    "    x_temp, y_temp, test_size=0.5, random_state=42, stratify=np.argmax(y_temp, axis=1)\n",
    ")\n",
    "\n",
    "print(x_train.shape)\n",
    "print(x_val.shape)\n",
    "print(x_test.shape)\n"
   ]
  },
  {
   "cell_type": "code",
   "execution_count": 8,
   "id": "891a5c2f",
   "metadata": {},
   "outputs": [
    {
     "name": "stdout",
     "output_type": "stream",
     "text": [
      "Validation Accuracy: 0.6363636363636364\n",
      "\n",
      "Classification Report (Validation):\n",
      "                  precision    recall  f1-score   support\n",
      "\n",
      "    Iris-setosa       1.00      1.00      1.00         8\n",
      "Iris-versicolor       0.43      0.43      0.43         7\n",
      " Iris-virginica       0.43      0.43      0.43         7\n",
      "\n",
      "       accuracy                           0.64        22\n",
      "      macro avg       0.62      0.62      0.62        22\n",
      "   weighted avg       0.64      0.64      0.64        22\n",
      "\n"
     ]
    }
   ],
   "source": [
    "model_70 = LinearRegression()\n",
    "model_70.fit(x_train, y_train)\n",
    "\n",
    "# Predict on validation\n",
    "y_val_pred = model_70.predict(x_val)\n",
    "y_val_pred_class = np.argmax(y_val_pred, axis=1)\n",
    "y_val_true_class = np.argmax(y_val, axis=1)\n",
    "\n",
    "print(\"Validation Accuracy:\", accuracy_score(y_val_true_class, y_val_pred_class))\n",
    "print(\"\\nClassification Report (Validation):\\n\",\n",
    "      classification_report(y_val_true_class, y_val_pred_class, target_names=le.classes_))\n"
   ]
  },
  {
   "cell_type": "code",
   "execution_count": 9,
   "id": "f1c79edb",
   "metadata": {},
   "outputs": [
    {
     "name": "stdout",
     "output_type": "stream",
     "text": [
      "Test Accuracy: 0.8260869565217391\n",
      "\n",
      "Classification Report (Test):\n",
      "                  precision    recall  f1-score   support\n",
      "\n",
      "    Iris-setosa       1.00      1.00      1.00         7\n",
      "Iris-versicolor       0.83      0.62      0.71         8\n",
      " Iris-virginica       0.70      0.88      0.78         8\n",
      "\n",
      "       accuracy                           0.83        23\n",
      "      macro avg       0.84      0.83      0.83        23\n",
      "   weighted avg       0.84      0.83      0.82        23\n",
      "\n"
     ]
    }
   ],
   "source": [
    "y_test_pred = model_70.predict(x_test)\n",
    "y_test_pred_class = np.argmax(y_test_pred, axis=1)\n",
    "y_test_true_class = np.argmax(y_test, axis=1)\n",
    "\n",
    "print(\"Test Accuracy:\", accuracy_score(y_test_true_class, y_test_pred_class))\n",
    "print(\"\\nClassification Report (Test):\\n\",\n",
    "      classification_report(y_test_true_class, y_test_pred_class, target_names=le.classes_))\n"
   ]
  }
 ],
 "metadata": {
  "kernelspec": {
   "display_name": "Python 3",
   "language": "python",
   "name": "python3"
  },
  "language_info": {
   "codemirror_mode": {
    "name": "ipython",
    "version": 3
   },
   "file_extension": ".py",
   "mimetype": "text/x-python",
   "name": "python",
   "nbconvert_exporter": "python",
   "pygments_lexer": "ipython3",
   "version": "3.13.7"
  }
 },
 "nbformat": 4,
 "nbformat_minor": 5
}
